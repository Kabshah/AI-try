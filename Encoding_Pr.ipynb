{
  "nbformat": 4,
  "nbformat_minor": 0,
  "metadata": {
    "colab": {
      "provenance": [],
      "authorship_tag": "ABX9TyNogYAWC9TLol3qpBubqKNM",
      "include_colab_link": true
    },
    "kernelspec": {
      "name": "python3",
      "display_name": "Python 3"
    },
    "language_info": {
      "name": "python"
    }
  },
  "cells": [
    {
      "cell_type": "markdown",
      "metadata": {
        "id": "view-in-github",
        "colab_type": "text"
      },
      "source": [
        "<a href=\"https://colab.research.google.com/github/Kabshah/AI-try/blob/main/Encoding_Pr.ipynb\" target=\"_parent\"><img src=\"https://colab.research.google.com/assets/colab-badge.svg\" alt=\"Open In Colab\"/></a>"
      ]
    },
    {
      "cell_type": "code",
      "execution_count": 12,
      "metadata": {
        "colab": {
          "base_uri": "https://localhost:8080/"
        },
        "id": "WofJbGI_wzyq",
        "outputId": "482aa557-ec6f-44bb-b19d-cd13e725227a"
      },
      "outputs": [
        {
          "output_type": "stream",
          "name": "stdout",
          "text": [
            "Encoded values:  [0 1 2 3 0 1]\n",
            "Classes:  ['Karachi kings' 'Lahore qalanders' 'multan sultans' 'peshawar zalmi']\n"
          ]
        }
      ],
      "source": [
        "from sklearn.preprocessing import LabelEncoder\n",
        "\n",
        "Teams = ['Karachi kings','Lahore qalanders','multan sultans','peshawar zalmi','Karachi kings','Lahore qalanders']\n",
        "encoder = LabelEncoder()\n",
        "encoded=encoder.fit_transform(Teams)\n",
        "print(\"Encoded values: \",encoded)\n",
        "print(\"Classes: \", encoder.classes_)"
      ]
    },
    {
      "cell_type": "code",
      "source": [
        "games = ['rdr2','cyber punk 2077','hogwarts legacy','cyber punk 2077','rdr2']\n",
        "encoder = LabelEncoder()\n",
        "encoded=encoder.fit_transform(games)\n",
        "print(\"Encoded values: \",encoded)\n",
        "print(\"Classes: \", encoder.classes_)"
      ],
      "metadata": {
        "colab": {
          "base_uri": "https://localhost:8080/"
        },
        "id": "LLF0JGA0yJ1G",
        "outputId": "6358f65b-ea6a-4415-c078-f522c245f66d"
      },
      "execution_count": 13,
      "outputs": [
        {
          "output_type": "stream",
          "name": "stdout",
          "text": [
            "Encoded values:  [2 0 1 0 2]\n",
            "Classes:  ['cyber punk 2077' 'hogwarts legacy' 'rdr2']\n"
          ]
        }
      ]
    },
    {
      "cell_type": "code",
      "source": [
        "uni =['ssuet','neduet','fast','ssuet','maju','fast','neduet']\n",
        "encoder = LabelEncoder()\n",
        "encoded=encoder.fit_transform(uni)\n",
        "print(\"Encoded values: \",encoded)\n",
        "print(\"Classes: \", encoder.classes_)"
      ],
      "metadata": {
        "colab": {
          "base_uri": "https://localhost:8080/"
        },
        "id": "GEhF7mlqyiwm",
        "outputId": "13c56654-f329-4f58-e6aa-6c47ebe9b35e"
      },
      "execution_count": 14,
      "outputs": [
        {
          "output_type": "stream",
          "name": "stdout",
          "text": [
            "Encoded values:  [3 2 0 3 1 0 2]\n",
            "Classes:  ['fast' 'maju' 'neduet' 'ssuet']\n"
          ]
        }
      ]
    },
    {
      "cell_type": "markdown",
      "source": [
        "**Label Encoding: Assign an int value to unique categorical values**\n",
        "\n",
        "\n",
        "**STEPS:**\n",
        "1) Import\n",
        "2) Make a List\n",
        "3) save LabelEncoder class in a var1\n",
        "4) make new var2, on var1 use method .fit_transform() pass the list_var to it\n",
        "5) print var2"
      ],
      "metadata": {
        "id": "GnYGahN_0Pg-"
      }
    },
    {
      "cell_type": "markdown",
      "source": [
        "**One Hot Encoding**"
      ],
      "metadata": {
        "id": "KV8XUSkE3TEF"
      }
    },
    {
      "cell_type": "code",
      "source": [
        "import pandas as pd\n",
        "from sklearn.preprocessing import OneHotEncoder\n",
        "df = pd.DataFrame({'Teams': ['Karachi kings','Lahore qalanders','multan sultans','peshawar zalmi','Karachi kings','Lahore qalanders','multan sultans'],\n",
        "                   \"uni\":['ssuet','neduet','fast','ssuet','maju','fast','neduet'],\n",
        "                   })\n",
        "hot_encode = pd.get_dummies(df, columns=['Teams','uni'])\n",
        "print(hot_encode)"
      ],
      "metadata": {
        "colab": {
          "base_uri": "https://localhost:8080/"
        },
        "id": "WsWU74_i3SiV",
        "outputId": "99432fe2-3033-4a74-bea1-2ea4db9c05c5"
      },
      "execution_count": 31,
      "outputs": [
        {
          "output_type": "stream",
          "name": "stdout",
          "text": [
            "   Teams_Karachi kings  Teams_Lahore qalanders  Teams_multan sultans  \\\n",
            "0                 True                   False                 False   \n",
            "1                False                    True                 False   \n",
            "2                False                   False                  True   \n",
            "3                False                   False                 False   \n",
            "4                 True                   False                 False   \n",
            "5                False                    True                 False   \n",
            "6                False                   False                  True   \n",
            "\n",
            "   Teams_peshawar zalmi  uni_fast  uni_maju  uni_neduet  uni_ssuet  \n",
            "0                 False     False     False       False       True  \n",
            "1                 False     False     False        True      False  \n",
            "2                 False      True     False       False      False  \n",
            "3                  True     False     False       False       True  \n",
            "4                 False     False      True       False      False  \n",
            "5                 False      True     False       False      False  \n",
            "6                 False     False     False        True      False  \n"
          ]
        }
      ]
    },
    {
      "cell_type": "markdown",
      "source": [
        "**Ordinal Encoding**"
      ],
      "metadata": {
        "id": "ymFyGELY89p0"
      }
    },
    {
      "cell_type": "markdown",
      "source": [
        "Q Encode education levels according to their rank. Data: ['High School', 'Bachelor', 'Master', 'PhD', 'Bachelor']"
      ],
      "metadata": {
        "id": "tl7z6YPJBUV8"
      }
    },
    {
      "cell_type": "code",
      "source": [
        "from sklearn.preprocessing import OrdinalEncoder\n",
        "df = pd.DataFrame({'Education level': ['Inter', 'Bachelor', 'Master', 'PhD','Bachelor','Inter','PhD']})\n",
        "encoder = OrdinalEncoder(categories=[['Inter', 'Bachelor', 'Master', 'PhD']])\n",
        "encoded = encoder.fit_transform(df)\n",
        "print(\"Encoded values on Ordinal Data: \",encoded)"
      ],
      "metadata": {
        "colab": {
          "base_uri": "https://localhost:8080/"
        },
        "id": "skqpJNGn9Ccs",
        "outputId": "82430340-df52-49e4-c175-482eb45205bd"
      },
      "execution_count": 34,
      "outputs": [
        {
          "output_type": "stream",
          "name": "stdout",
          "text": [
            "Encoded values on Ordinal Data:  [[0.]\n",
            " [1.]\n",
            " [2.]\n",
            " [3.]\n",
            " [1.]\n",
            " [0.]\n",
            " [3.]]\n"
          ]
        }
      ]
    },
    {
      "cell_type": "code",
      "source": [
        "from sklearn.preprocessing import OrdinalEncoder\n",
        "df = pd.DataFrame({'Sizes':['XL','S','M','L','L','XL','S','M']})\n",
        "encoder = OrdinalEncoder(categories=[['S','M','L','XL']])\n",
        "encoded = encoder.fit_transform(df)\n",
        "print(df)\n",
        "print(encoded)"
      ],
      "metadata": {
        "colab": {
          "base_uri": "https://localhost:8080/"
        },
        "id": "ChQ4R-pb_fqs",
        "outputId": "0ad60414-f771-45df-b25f-bdc54920210b"
      },
      "execution_count": 36,
      "outputs": [
        {
          "output_type": "stream",
          "name": "stdout",
          "text": [
            "  Sizes\n",
            "0    XL\n",
            "1     S\n",
            "2     M\n",
            "3     L\n",
            "4     L\n",
            "5    XL\n",
            "6     S\n",
            "7     M\n",
            "[[3.]\n",
            " [0.]\n",
            " [1.]\n",
            " [2.]\n",
            " [2.]\n",
            " [3.]\n",
            " [0.]\n",
            " [1.]]\n"
          ]
        }
      ]
    },
    {
      "cell_type": "markdown",
      "source": [
        "TEST:\n",
        "Convert pet types into binary columns. Data: ['Dog', 'Cat', 'Rabbit', 'Dog', 'Cat']"
      ],
      "metadata": {
        "id": "6fqq3OSQDWDT"
      }
    },
    {
      "cell_type": "markdown",
      "source": [
        "Applying one hot encoding because of columns"
      ],
      "metadata": {
        "id": "LkWkzRDlDZ9T"
      }
    },
    {
      "cell_type": "code",
      "source": [
        "from sklearn.preprocessing import OneHotEncoder\n",
        "import pandas as pd\n",
        "df = pd.DataFrame({'Pets':['Dog', 'Cat', 'Rabbit', 'Dog', 'Cat']})\n",
        "hot_encode = pd.get_dummies(df, columns=['Pets'])\n",
        "print(hot_encode)"
      ],
      "metadata": {
        "colab": {
          "base_uri": "https://localhost:8080/"
        },
        "id": "2SFBZWHKDeCj",
        "outputId": "776d35c1-71de-4d83-9cf0-8c163318621c"
      },
      "execution_count": 37,
      "outputs": [
        {
          "output_type": "stream",
          "name": "stdout",
          "text": [
            "   Pets_Cat  Pets_Dog  Pets_Rabbit\n",
            "0     False      True        False\n",
            "1      True     False        False\n",
            "2     False     False         True\n",
            "3     False      True        False\n",
            "4      True     False        False\n"
          ]
        }
      ]
    },
    {
      "cell_type": "markdown",
      "source": [
        " Encode favorite fruits numerically for ML models. Data: ['Apple', 'Banana', 'Mango', 'Apple', 'Mango']"
      ],
      "metadata": {
        "id": "ERY4BE15EGCb"
      }
    },
    {
      "cell_type": "code",
      "source": [
        "from sklearn.preprocessing import LabelEncoder\n",
        "fruits = ['Apple', 'Banana', 'Mango', 'Apple', 'Mango']\n",
        "encoder = LabelEncoder()\n",
        "encoded = encoder.fit_transform(fruits)\n",
        "print(encoder.classes_)\n",
        "print(encoded)"
      ],
      "metadata": {
        "colab": {
          "base_uri": "https://localhost:8080/"
        },
        "id": "GsPUPjLoEIqr",
        "outputId": "9fa96440-c98d-499d-9f10-16ed26107357"
      },
      "execution_count": 40,
      "outputs": [
        {
          "output_type": "stream",
          "name": "stdout",
          "text": [
            "['Apple' 'Banana' 'Mango']\n",
            "[0 1 2 0 2]\n"
          ]
        }
      ]
    }
  ]
}